{
 "cells": [
  {
   "cell_type": "markdown",
   "metadata": {},
   "source": [
    "# Figure: How large should effect sizes be in neuroimaging to have sufficient power?"
   ]
  },
  {
   "cell_type": "markdown",
   "metadata": {},
   "source": [
    "### Specification of alternative\n",
    "\n",
    "In a brain map in an MNI template, with smoothness of 3 times the voxelsize, there is an active regions with voxelwise effect size D.  The (spatial) size of the region is relatively small (<200 voxels).  We want to know how large D should be in order to have 80% power to detect the regions using voxelwise FWE thresholding using Random Field Theory.\n",
    "Detect the region means that the maximum in the activated area exceeds the significance threshold.\n",
    "\n",
    "### Strategy\n",
    "\n",
    "1. Compute the voxelwise threshold for the specified smoothness and volume \n",
    "    * _FweThres = 5.12_\n",
    "2. Compute the required power, so that the power is 80% \n",
    "3. How large should the maximum statistic in a (small) region be to exceed the voxelwise threshold with 0.8 power? \n",
    "    * _muMax = 4.0_\n",
    "5. How does this voxel statistic translate to Cohen's D for a given sample size?\n",
    "    * _See Figure_"
   ]
  },
  {
   "cell_type": "code",
   "execution_count": 1,
   "metadata": {
    "collapsed": true
   },
   "outputs": [],
   "source": [
    "% matplotlib inline\n",
    "from __future__ import division\n",
    "import os\n",
    "import nibabel as nib\n",
    "import numpy as np\n",
    "from neuropower import peakdistribution\n",
    "import scipy.integrate as integrate\n",
    "import pandas as pd\n",
    "import matplotlib.pyplot as plt\n",
    "import palettable.colorbrewer as cb"
   ]
  },
  {
   "cell_type": "markdown",
   "metadata": {},
   "source": [
    "## 1. What is the voxelwise threshold?"
   ]
  },
  {
   "cell_type": "code",
   "execution_count": 2,
   "metadata": {
    "collapsed": false
   },
   "outputs": [
    {
     "name": "stdout",
     "output_type": "stream",
     "text": [
      "ReselSize: 27\n",
      "Volume: 228483\n",
      "ReselCount: 8462.33333333\n",
      "------------\n",
      "FWE voxelwise GRF threshold: 5.123062\n",
      "\n"
     ]
    }
   ],
   "source": [
    "# From smoothness + mask to ReselCount\n",
    "\n",
    "FWHM = 3\n",
    "ReselSize = FWHM**3\n",
    "MNI_mask = nib.load(\"MNI152_T1_2mm_brain_mask.nii.gz\").get_data()\n",
    "Volume = np.sum(MNI_mask)\n",
    "ReselCount = Volume/ReselSize\n",
    "\n",
    "print(\"ReselSize: \"+str(ReselSize))\n",
    "print(\"Volume: \"+str(Volume))\n",
    "print(\"ReselCount: \"+str(ReselCount))\n",
    "print(\"------------\")\n",
    "\n",
    "# From ReselCount to FWE treshold\n",
    "\n",
    "FweThres_cmd = 'ptoz 0.05 -g %s' %ReselCount\n",
    "FweThres = os.popen(FweThres_cmd).read()\n",
    "\n",
    "print(\"FWE voxelwise GRF threshold: \"+str(FweThres))"
   ]
  },
  {
   "cell_type": "markdown",
   "metadata": {},
   "source": [
    "## 2. Definition of alternative"
   ]
  },
  {
   "cell_type": "markdown",
   "metadata": {},
   "source": [
    "#### Detect 1 region\n",
    "We define a 'success' as a situation in which the maximum in the active field exceeds\n",
    "the threshold."
   ]
  },
  {
   "cell_type": "code",
   "execution_count": 3,
   "metadata": {
    "collapsed": true
   },
   "outputs": [],
   "source": [
    "Power = 0.8"
   ]
  },
  {
   "cell_type": "markdown",
   "metadata": {},
   "source": [
    "## 3. How large statistic in a field be to exceed the threshold with power 0.80?\n",
    "\n",
    "We quantify this by computing the expected local maximum in the field (which is a null field elevated by value D).\n",
    "We use the distribution of local maxima of Cheng&Schwartzman to compute the power/effect size."
   ]
  },
  {
   "cell_type": "code",
   "execution_count": 4,
   "metadata": {
    "collapsed": false
   },
   "outputs": [
    {
     "name": "stdout",
     "output_type": "stream",
     "text": [
      "The power is sufficient for one region if mu equals: 4.0\n"
     ]
    }
   ],
   "source": [
    "muRange = np.arange(1.8,5,0.01)\n",
    "muSingle = []\n",
    "for muMax in muRange:\n",
    "# what is the power to detect a maximum \n",
    "    power = 1-integrate.quad(lambda x:peakdistribution.peakdens3D(x,1),-20,float(FweThres)-muMax)[0]\n",
    "    if power>Power:\n",
    "        muSingle.append(muMax)\n",
    "        break\n",
    "print(\"The power is sufficient for one region if mu equals: \"+str(muSingle[0]))"
   ]
  },
  {
   "cell_type": "markdown",
   "metadata": {},
   "source": [
    "## 5. From the required voxel statistic to Cohen's D for a given sample size"
   ]
  },
  {
   "cell_type": "code",
   "execution_count": 19,
   "metadata": {
    "collapsed": false
   },
   "outputs": [],
   "source": [
    "# Read in data\n",
    "Data = pd.read_csv(\"tal_data.txt\",sep=\" \",header=None,names=['year','n'])\n",
    "Data['source']='Tal'\n",
    "Data = Data[Data['year']!=1997] # remove year with single entry (n=1) \n",
    "David = pd.read_csv(\"david_data.txt\",sep=\" \",header=None,names=['year','n'])\n",
    "David['source']='David'\n",
    "Data=Data.append(David)"
   ]
  },
  {
   "cell_type": "code",
   "execution_count": 20,
   "metadata": {
    "collapsed": false
   },
   "outputs": [],
   "source": [
    "# add detectable effect\n",
    "Data['deltaSingle']=muSingle[0]/np.sqrt(Data['n'])"
   ]
  },
  {
   "cell_type": "code",
   "execution_count": 21,
   "metadata": {
    "collapsed": true
   },
   "outputs": [],
   "source": [
    "# add jitter for figure\n",
    "stdev = 0.01*(max(Data.year)-min(Data.year))\n",
    "Data['year_jitter'] = Data.year+np.random.randn(len(Data))*stdev"
   ]
  },
  {
   "cell_type": "code",
   "execution_count": 22,
   "metadata": {
    "collapsed": false
   },
   "outputs": [],
   "source": [
    "# Compute medians per year (for smoother)\n",
    "Medians = pd.DataFrame({'year':\n",
    "                     np.arange(start=np.min(Data.year),stop=np.max(Data.year)+1),\n",
    "                      'TalMdSS':'nan',\n",
    "                     'DavidMdSS':'nan',\n",
    "                      'TalMdDSingle':'nan',\n",
    "                     'DavidMdDSingle':'nan',\n",
    "                        'MdSS':'nan',\n",
    "                        'DSingle':'nan'\n",
    "                       })"
   ]
  },
  {
   "cell_type": "code",
   "execution_count": 23,
   "metadata": {
    "collapsed": false
   },
   "outputs": [
    {
     "name": "stderr",
     "output_type": "stream",
     "text": [
      "/Users/Joke/anaconda/lib/python2.7/site-packages/ipykernel/__main__.py:4: SettingWithCopyWarning: \n",
      "A value is trying to be set on a copy of a slice from a DataFrame\n",
      "\n",
      "See the caveats in the documentation: http://pandas.pydata.org/pandas-docs/stable/indexing.html#indexing-view-versus-copy\n",
      "/Users/Joke/anaconda/lib/python2.7/site-packages/ipykernel/__main__.py:5: SettingWithCopyWarning: \n",
      "A value is trying to be set on a copy of a slice from a DataFrame\n",
      "\n",
      "See the caveats in the documentation: http://pandas.pydata.org/pandas-docs/stable/indexing.html#indexing-view-versus-copy\n",
      "/Users/Joke/anaconda/lib/python2.7/site-packages/ipykernel/__main__.py:8: SettingWithCopyWarning: \n",
      "A value is trying to be set on a copy of a slice from a DataFrame\n",
      "\n",
      "See the caveats in the documentation: http://pandas.pydata.org/pandas-docs/stable/indexing.html#indexing-view-versus-copy\n",
      "/Users/Joke/anaconda/lib/python2.7/site-packages/ipykernel/__main__.py:9: SettingWithCopyWarning: \n",
      "A value is trying to be set on a copy of a slice from a DataFrame\n",
      "\n",
      "See the caveats in the documentation: http://pandas.pydata.org/pandas-docs/stable/indexing.html#indexing-view-versus-copy\n",
      "/Users/Joke/anaconda/lib/python2.7/site-packages/ipykernel/__main__.py:12: SettingWithCopyWarning: \n",
      "A value is trying to be set on a copy of a slice from a DataFrame\n",
      "\n",
      "See the caveats in the documentation: http://pandas.pydata.org/pandas-docs/stable/indexing.html#indexing-view-versus-copy\n",
      "/Users/Joke/anaconda/lib/python2.7/site-packages/ipykernel/__main__.py:13: SettingWithCopyWarning: \n",
      "A value is trying to be set on a copy of a slice from a DataFrame\n",
      "\n",
      "See the caveats in the documentation: http://pandas.pydata.org/pandas-docs/stable/indexing.html#indexing-view-versus-copy\n"
     ]
    }
   ],
   "source": [
    "for yearInd in (range(len(Medians))):\n",
    "    # Compute medians for Tal's data\n",
    "    yearBoolTal = np.array([a and b for a,b in zip(Data.source==\"Tal\",Data.year==Medians.year[yearInd])])\n",
    "    Medians.TalMdSS[yearInd] = np.median(Data.n[yearBoolTal])\n",
    "    Medians.TalMdDSingle[yearInd] = np.median(Data.deltaSingle[yearBoolTal])\n",
    "    # Compute medians for David's data\n",
    "    yearBoolDavid = np.array([a and b for a,b in zip(Data.source==\"David\",Data.year==Medians.year[yearInd])])\n",
    "    Medians.DavidMdSS[yearInd] = np.median(Data.n[yearBoolDavid])\n",
    "    Medians.DavidMdDSingle[yearInd] = np.median(Data.deltaSingle[yearBoolDavid])\n",
    "    # Compute medians for all data\n",
    "    yearBool = np.array(Data.year==Medians.year[yearInd])\n",
    "    Medians.MdSS[yearInd] = np.median(Data.n[yearBool])\n",
    "    Medians.DSingle[yearInd] = np.median(Data.deltaSingle[yearBool])"
   ]
  },
  {
   "cell_type": "code",
   "execution_count": 24,
   "metadata": {
    "collapsed": false
   },
   "outputs": [
    {
     "data": {
      "text/html": [
       "<div>\n",
       "<table border=\"1\" class=\"dataframe\">\n",
       "  <thead>\n",
       "    <tr style=\"text-align: right;\">\n",
       "      <th></th>\n",
       "      <th>DSingle</th>\n",
       "      <th>DavidMdDSingle</th>\n",
       "      <th>DavidMdSS</th>\n",
       "      <th>MdSS</th>\n",
       "      <th>TalMdDSingle</th>\n",
       "      <th>TalMdSS</th>\n",
       "      <th>year</th>\n",
       "    </tr>\n",
       "  </thead>\n",
       "  <tbody>\n",
       "    <tr>\n",
       "      <th>0</th>\n",
       "      <td>0.970143</td>\n",
       "      <td>0.970143</td>\n",
       "      <td>17</td>\n",
       "      <td>17</td>\n",
       "      <td>NaN</td>\n",
       "      <td>NaN</td>\n",
       "      <td>1988.0</td>\n",
       "    </tr>\n",
       "    <tr>\n",
       "      <th>1</th>\n",
       "      <td>NaN</td>\n",
       "      <td>NaN</td>\n",
       "      <td>NaN</td>\n",
       "      <td>NaN</td>\n",
       "      <td>NaN</td>\n",
       "      <td>NaN</td>\n",
       "      <td>1989.0</td>\n",
       "    </tr>\n",
       "    <tr>\n",
       "      <th>2</th>\n",
       "      <td>NaN</td>\n",
       "      <td>NaN</td>\n",
       "      <td>NaN</td>\n",
       "      <td>NaN</td>\n",
       "      <td>NaN</td>\n",
       "      <td>NaN</td>\n",
       "      <td>1990.0</td>\n",
       "    </tr>\n",
       "    <tr>\n",
       "      <th>3</th>\n",
       "      <td>1.63299</td>\n",
       "      <td>1.63299</td>\n",
       "      <td>6</td>\n",
       "      <td>6</td>\n",
       "      <td>NaN</td>\n",
       "      <td>NaN</td>\n",
       "      <td>1991.0</td>\n",
       "    </tr>\n",
       "    <tr>\n",
       "      <th>4</th>\n",
       "      <td>0.872234</td>\n",
       "      <td>0.872234</td>\n",
       "      <td>29</td>\n",
       "      <td>29</td>\n",
       "      <td>NaN</td>\n",
       "      <td>NaN</td>\n",
       "      <td>1992.0</td>\n",
       "    </tr>\n",
       "    <tr>\n",
       "      <th>5</th>\n",
       "      <td>1.78885</td>\n",
       "      <td>1.78885</td>\n",
       "      <td>5</td>\n",
       "      <td>5</td>\n",
       "      <td>NaN</td>\n",
       "      <td>NaN</td>\n",
       "      <td>1993.0</td>\n",
       "    </tr>\n",
       "    <tr>\n",
       "      <th>6</th>\n",
       "      <td>1.5236</td>\n",
       "      <td>1.5236</td>\n",
       "      <td>7</td>\n",
       "      <td>7</td>\n",
       "      <td>NaN</td>\n",
       "      <td>NaN</td>\n",
       "      <td>1994.0</td>\n",
       "    </tr>\n",
       "    <tr>\n",
       "      <th>7</th>\n",
       "      <td>1.44895</td>\n",
       "      <td>1.44895</td>\n",
       "      <td>8</td>\n",
       "      <td>8</td>\n",
       "      <td>NaN</td>\n",
       "      <td>NaN</td>\n",
       "      <td>1995.0</td>\n",
       "    </tr>\n",
       "    <tr>\n",
       "      <th>8</th>\n",
       "      <td>1.33333</td>\n",
       "      <td>1.33333</td>\n",
       "      <td>9</td>\n",
       "      <td>9</td>\n",
       "      <td>NaN</td>\n",
       "      <td>NaN</td>\n",
       "      <td>1996.0</td>\n",
       "    </tr>\n",
       "    <tr>\n",
       "      <th>9</th>\n",
       "      <td>1.20605</td>\n",
       "      <td>1.20605</td>\n",
       "      <td>11</td>\n",
       "      <td>11</td>\n",
       "      <td>NaN</td>\n",
       "      <td>NaN</td>\n",
       "      <td>1997.0</td>\n",
       "    </tr>\n",
       "    <tr>\n",
       "      <th>10</th>\n",
       "      <td>1.29912</td>\n",
       "      <td>1.33956</td>\n",
       "      <td>9</td>\n",
       "      <td>9.5</td>\n",
       "      <td>1.24402</td>\n",
       "      <td>10.5</td>\n",
       "      <td>1998.0</td>\n",
       "    </tr>\n",
       "    <tr>\n",
       "      <th>11</th>\n",
       "      <td>1.41421</td>\n",
       "      <td>1.41421</td>\n",
       "      <td>8</td>\n",
       "      <td>8</td>\n",
       "      <td>1.26491</td>\n",
       "      <td>10</td>\n",
       "      <td>1999.0</td>\n",
       "    </tr>\n",
       "    <tr>\n",
       "      <th>12</th>\n",
       "      <td>1.33333</td>\n",
       "      <td>1.26491</td>\n",
       "      <td>10</td>\n",
       "      <td>9</td>\n",
       "      <td>1.51186</td>\n",
       "      <td>7</td>\n",
       "      <td>2000.0</td>\n",
       "    </tr>\n",
       "    <tr>\n",
       "      <th>13</th>\n",
       "      <td>1.26491</td>\n",
       "      <td>1.26491</td>\n",
       "      <td>10</td>\n",
       "      <td>10</td>\n",
       "      <td>1.41421</td>\n",
       "      <td>8</td>\n",
       "      <td>2001.0</td>\n",
       "    </tr>\n",
       "    <tr>\n",
       "      <th>14</th>\n",
       "      <td>1.1547</td>\n",
       "      <td>1.1547</td>\n",
       "      <td>12</td>\n",
       "      <td>12</td>\n",
       "      <td>1.26491</td>\n",
       "      <td>10</td>\n",
       "      <td>2002.0</td>\n",
       "    </tr>\n",
       "    <tr>\n",
       "      <th>15</th>\n",
       "      <td>1.20605</td>\n",
       "      <td>1.20605</td>\n",
       "      <td>11</td>\n",
       "      <td>11</td>\n",
       "      <td>1.18037</td>\n",
       "      <td>11.5</td>\n",
       "      <td>2003.0</td>\n",
       "    </tr>\n",
       "    <tr>\n",
       "      <th>16</th>\n",
       "      <td>1.1547</td>\n",
       "      <td>1.1547</td>\n",
       "      <td>12</td>\n",
       "      <td>12</td>\n",
       "      <td>1.1094</td>\n",
       "      <td>13</td>\n",
       "      <td>2004.0</td>\n",
       "    </tr>\n",
       "    <tr>\n",
       "      <th>17</th>\n",
       "      <td>1.06904</td>\n",
       "      <td>1.06904</td>\n",
       "      <td>14</td>\n",
       "      <td>14</td>\n",
       "      <td>1.06904</td>\n",
       "      <td>14</td>\n",
       "      <td>2005.0</td>\n",
       "    </tr>\n",
       "    <tr>\n",
       "      <th>18</th>\n",
       "      <td>1.0328</td>\n",
       "      <td>1.05092</td>\n",
       "      <td>14.5</td>\n",
       "      <td>15</td>\n",
       "      <td>1.0328</td>\n",
       "      <td>15</td>\n",
       "      <td>2006.0</td>\n",
       "    </tr>\n",
       "    <tr>\n",
       "      <th>19</th>\n",
       "      <td>1.0328</td>\n",
       "      <td>1</td>\n",
       "      <td>16</td>\n",
       "      <td>15</td>\n",
       "      <td>1.06904</td>\n",
       "      <td>14</td>\n",
       "      <td>2007.0</td>\n",
       "    </tr>\n",
       "    <tr>\n",
       "      <th>20</th>\n",
       "      <td>1.06904</td>\n",
       "      <td>1.0328</td>\n",
       "      <td>15</td>\n",
       "      <td>14</td>\n",
       "      <td>1.06904</td>\n",
       "      <td>14</td>\n",
       "      <td>2008.0</td>\n",
       "    </tr>\n",
       "    <tr>\n",
       "      <th>21</th>\n",
       "      <td>0.970143</td>\n",
       "      <td>0.970143</td>\n",
       "      <td>17</td>\n",
       "      <td>17</td>\n",
       "      <td>0.970143</td>\n",
       "      <td>17</td>\n",
       "      <td>2009.0</td>\n",
       "    </tr>\n",
       "    <tr>\n",
       "      <th>22</th>\n",
       "      <td>0.917663</td>\n",
       "      <td>0.894427</td>\n",
       "      <td>20</td>\n",
       "      <td>19</td>\n",
       "      <td>0.930236</td>\n",
       "      <td>18.5</td>\n",
       "      <td>2010.0</td>\n",
       "    </tr>\n",
       "    <tr>\n",
       "      <th>23</th>\n",
       "      <td>0.942809</td>\n",
       "      <td>0.942809</td>\n",
       "      <td>18</td>\n",
       "      <td>18</td>\n",
       "      <td>0.942809</td>\n",
       "      <td>18</td>\n",
       "      <td>2011.0</td>\n",
       "    </tr>\n",
       "    <tr>\n",
       "      <th>24</th>\n",
       "      <td>0.894427</td>\n",
       "      <td>NaN</td>\n",
       "      <td>NaN</td>\n",
       "      <td>20</td>\n",
       "      <td>0.894427</td>\n",
       "      <td>20</td>\n",
       "      <td>2012.0</td>\n",
       "    </tr>\n",
       "    <tr>\n",
       "      <th>25</th>\n",
       "      <td>0.894427</td>\n",
       "      <td>NaN</td>\n",
       "      <td>NaN</td>\n",
       "      <td>20</td>\n",
       "      <td>0.894427</td>\n",
       "      <td>20</td>\n",
       "      <td>2013.0</td>\n",
       "    </tr>\n",
       "    <tr>\n",
       "      <th>26</th>\n",
       "      <td>0.852803</td>\n",
       "      <td>NaN</td>\n",
       "      <td>NaN</td>\n",
       "      <td>22</td>\n",
       "      <td>0.852803</td>\n",
       "      <td>22</td>\n",
       "      <td>2014.0</td>\n",
       "    </tr>\n",
       "    <tr>\n",
       "      <th>27</th>\n",
       "      <td>0.816497</td>\n",
       "      <td>0.894427</td>\n",
       "      <td>20</td>\n",
       "      <td>24</td>\n",
       "      <td>0.816497</td>\n",
       "      <td>24</td>\n",
       "      <td>2015.0</td>\n",
       "    </tr>\n",
       "  </tbody>\n",
       "</table>\n",
       "</div>"
      ],
      "text/plain": [
       "     DSingle DavidMdDSingle DavidMdSS MdSS TalMdDSingle TalMdSS    year\n",
       "0   0.970143       0.970143        17   17          NaN     NaN  1988.0\n",
       "1        NaN            NaN       NaN  NaN          NaN     NaN  1989.0\n",
       "2        NaN            NaN       NaN  NaN          NaN     NaN  1990.0\n",
       "3    1.63299        1.63299         6    6          NaN     NaN  1991.0\n",
       "4   0.872234       0.872234        29   29          NaN     NaN  1992.0\n",
       "5    1.78885        1.78885         5    5          NaN     NaN  1993.0\n",
       "6     1.5236         1.5236         7    7          NaN     NaN  1994.0\n",
       "7    1.44895        1.44895         8    8          NaN     NaN  1995.0\n",
       "8    1.33333        1.33333         9    9          NaN     NaN  1996.0\n",
       "9    1.20605        1.20605        11   11          NaN     NaN  1997.0\n",
       "10   1.29912        1.33956         9  9.5      1.24402    10.5  1998.0\n",
       "11   1.41421        1.41421         8    8      1.26491      10  1999.0\n",
       "12   1.33333        1.26491        10    9      1.51186       7  2000.0\n",
       "13   1.26491        1.26491        10   10      1.41421       8  2001.0\n",
       "14    1.1547         1.1547        12   12      1.26491      10  2002.0\n",
       "15   1.20605        1.20605        11   11      1.18037    11.5  2003.0\n",
       "16    1.1547         1.1547        12   12       1.1094      13  2004.0\n",
       "17   1.06904        1.06904        14   14      1.06904      14  2005.0\n",
       "18    1.0328        1.05092      14.5   15       1.0328      15  2006.0\n",
       "19    1.0328              1        16   15      1.06904      14  2007.0\n",
       "20   1.06904         1.0328        15   14      1.06904      14  2008.0\n",
       "21  0.970143       0.970143        17   17     0.970143      17  2009.0\n",
       "22  0.917663       0.894427        20   19     0.930236    18.5  2010.0\n",
       "23  0.942809       0.942809        18   18     0.942809      18  2011.0\n",
       "24  0.894427            NaN       NaN   20     0.894427      20  2012.0\n",
       "25  0.894427            NaN       NaN   20     0.894427      20  2013.0\n",
       "26  0.852803            NaN       NaN   22     0.852803      22  2014.0\n",
       "27  0.816497       0.894427        20   24     0.816497      24  2015.0"
      ]
     },
     "execution_count": 24,
     "metadata": {},
     "output_type": "execute_result"
    }
   ],
   "source": [
    "Medians"
   ]
  },
  {
   "cell_type": "code",
   "execution_count": 26,
   "metadata": {
    "collapsed": true
   },
   "outputs": [],
   "source": [
    "# add logscale\n",
    "\n",
    "Medians.MdSSLog = [np.log(x) for x in Medians.MdSS]\n",
    "Data.nLog = [np.log(x) for x in Data.n]"
   ]
  },
  {
   "cell_type": "markdown",
   "metadata": {},
   "source": [
    "## Figure with logscale"
   ]
  },
  {
   "cell_type": "code",
   "execution_count": 28,
   "metadata": {
    "collapsed": false
   },
   "outputs": [
    {
     "data": {
      "image/png": "[encoded data removed]",
      "text/plain": [
       "<matplotlib.figure.Figure at 0x10b4477d0>"
      ]
     },
     "metadata": {},
     "output_type": "display_data"
    }
   ],
   "source": [
    "twocol = cb.qualitative.Paired_12.mpl_colors\n",
    "\n",
    "fig,axs = plt.subplots(1,2,figsize=(12,5))\n",
    "fig.subplots_adjust(hspace=.5,wspace=.3)\n",
    "axs=axs.ravel()\n",
    "axs[0].yaxis.grid(color='lightgray',linestyle=\"-\")\n",
    "axs[0].plot(Data.year_jitter,Data.nLog,\"r.\",color=twocol[0],alpha=0.5,label=\"\")\n",
    "axs[0].plot(Medians.year,Medians.MdSSLog,color=twocol[1],lw=3,label=\"Median Sample Size\")\n",
    "axs[0].set_xlim([1993,2016])\n",
    "axs[0].set_ylim([0,8])\n",
    "axs[0].set_xlabel(\"Year\")\n",
    "axs[0].set_ylabel(\"Sample Size\")\n",
    "axs[0].legend(loc=\"upper left\",frameon=False)\n",
    "#labels=[1,5,10,20,50,150,500,1000,3000]\n",
    "labels=[1,4,16,64,256,1024,3000]\n",
    "axs[0].set_yticks(np.log(labels))\n",
    "axs[0].set_yticklabels(labels)\n",
    "\n",
    "axs[1].yaxis.grid(color='lightgray',linestyle=\"-\")\n",
    "axs[1].plot(Data.year_jitter[Data.source==\"Tal\"],Data.deltaSingle[Data.source==\"Tal\"],\"r.\",color=twocol[0],alpha=0.5,label=\"\")\n",
    "axs[1].plot(Data.year_jitter[Data.source==\"David\"],Data.deltaSingle[Data.source==\"David\"],\"r.\",color=twocol[2],alpha=0.5,label=\"\")\n",
    "axs[1].plot(Medians.year,Medians.TalMdDSingle,color=twocol[1],lw=3,label=\"Neurosynth\")\n",
    "axs[1].plot(Medians.year,Medians.DavidMdDSingle,color=twocol[3],lw=3,label=\"David et al.\")\n",
    "\n",
    "axs[1].set_xlim([1993,2016])\n",
    "axs[1].set_ylim([0,3])\n",
    "axs[1].set_xlabel(\"Year\")\n",
    "axs[1].set_ylabel(\"Effect Size detectable with 80% power\")\n",
    "axs[1].legend(loc=\"upper left\",frameon=False)\n",
    "plt.savefig(\"ReqEffSize.jpg\")"
   ]
  }
 ],
 "metadata": {
  "kernelspec": {
   "display_name": "Python 2",
   "language": "python",
   "name": "python2"
  },
  "language_info": {
   "codemirror_mode": {
    "name": "ipython",
    "version": 2
   },
   "file_extension": ".py",
   "mimetype": "text/x-python",
   "name": "python",
   "nbconvert_exporter": "python",
   "pygments_lexer": "ipython2",
   "version": "2.7.11"
  }
 },
 "nbformat": 4,
 "nbformat_minor": 0
}
