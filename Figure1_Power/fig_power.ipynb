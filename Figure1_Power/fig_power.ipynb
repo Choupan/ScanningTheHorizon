{
 "cells": [
  {
   "cell_type": "markdown",
   "metadata": {},
   "source": [
    "# Figure: How large should effect sizes be in neuroimaging to have sufficient power?"
   ]
  },
  {
   "cell_type": "markdown",
   "metadata": {},
   "source": [
    "### Specification of alternative\n",
    "\n",
    "In a brain map in an MNI template, with smoothness of 3 times the voxelsize, there is one active region with voxelwise effect size D.  The (spatial) size of the region is relatively small (<200 voxels).  We want to know how large D should be in order to have 80% power to detect the region using voxelwise FWE thresholding using Random Field Theory.\n",
    "Detect the region means that the maximum in the activated area exceeds the significance threshold.\n",
    "\n",
    "### Strategy\n",
    "\n",
    "1. Compute the voxelwise threshold for the specified smoothness and volume \n",
    "    * _FweThres = 5.12_\n",
    "2. Define the alternative hypothesis, so that the omnibus power is 80% \n",
    "3. How large should the maximum statistic in a (small) region be to exceed the voxelwise threshold with 0.8 power? \n",
    "    * _muMax = 4.00_\n",
    "5. How does this voxel statistic translate to Cohen's D for a given sample size?\n",
    "    * _See Figure_"
   ]
  },
  {
   "cell_type": "code",
   "execution_count": 43,
   "metadata": {
    "collapsed": true
   },
   "outputs": [],
   "source": [
    "% matplotlib inline\n",
    "from __future__ import division\n",
    "import os\n",
    "import nibabel as nib\n",
    "import numpy as np\n",
    "from neuropower import peakdistribution\n",
    "import scipy.integrate as integrate\n",
    "import pandas as pd\n",
    "import matplotlib.pyplot as plt\n",
    "import palettable.colorbrewer as cb\n",
    "\n",
    "if not 'FSLDIR' in os.environ.keys():\n",
    "    raise Exception('This notebook requires that FSL is installed and the FSLDIR environment variable is set')\n",
    "\n"
   ]
  },
  {
   "cell_type": "markdown",
   "metadata": {},
   "source": [
    "## 1. What is the voxelwise threshold?"
   ]
  },
  {
   "cell_type": "code",
   "execution_count": 44,
   "metadata": {
    "collapsed": false
   },
   "outputs": [
    {
     "name": "stdout",
     "output_type": "stream",
     "text": [
      "ReselSize: 27\n",
      "Volume: 228483\n",
      "ReselCount: 8462.33333333\n",
      "------------\n",
      "FWE voxelwise GRF threshold: 5.123062\n",
      "\n"
     ]
    }
   ],
   "source": [
    "# From smoothness + mask to ReselCount\n",
    "\n",
    "FWHM = 3\n",
    "ReselSize = FWHM**3\n",
    "MNI_mask = nib.load(os.path.join(os.getenv('FSLDIR'),'data/standard/MNI152_T1_2mm_brain_mask.nii.gz')).get_data()\n",
    "Volume = np.sum(MNI_mask)\n",
    "ReselCount = Volume/ReselSize\n",
    "\n",
    "print(\"ReselSize: \"+str(ReselSize))\n",
    "print(\"Volume: \"+str(Volume))\n",
    "print(\"ReselCount: \"+str(ReselCount))\n",
    "print(\"------------\")\n",
    "\n",
    "# From ReselCount to FWE treshold\n",
    "\n",
    "FweThres_cmd = 'ptoz 0.05 -g %s' %ReselCount\n",
    "FweThres = os.popen(FweThres_cmd).read()\n",
    "\n",
    "print(\"FWE voxelwise GRF threshold: \"+str(FweThres))"
   ]
  },
  {
   "cell_type": "markdown",
   "metadata": {},
   "source": [
    "## 2. Definition of alternative"
   ]
  },
  {
   "cell_type": "markdown",
   "metadata": {},
   "source": [
    "#### Detect 1 region\n",
    "We define a 'success' as a situation in which the maximum in the active field exceeds\n",
    "the threshold."
   ]
  },
  {
   "cell_type": "code",
   "execution_count": 45,
   "metadata": {
    "collapsed": true
   },
   "outputs": [],
   "source": [
    "Power = 0.8"
   ]
  },
  {
   "cell_type": "markdown",
   "metadata": {},
   "source": [
    "## 3. How large statistic in a field be to exceed the threshold with power 0.80?\n",
    "\n",
    "We quantify this by computing the expected local maximum in the field (which is a null field elevated by value D).\n",
    "We use the distribution of local maxima of Cheng&Schwartzman to compute the power/effect size."
   ]
  },
  {
   "cell_type": "code",
   "execution_count": 46,
   "metadata": {
    "collapsed": false
   },
   "outputs": [
    {
     "name": "stdout",
     "output_type": "stream",
     "text": [
      "The power is sufficient for one region if mu equals: 4.0\n"
     ]
    }
   ],
   "source": [
    "muRange = np.arange(1.8,5,0.01)\n",
    "muSingle = []\n",
    "for muMax in muRange:\n",
    "# what is the power to detect a maximum \n",
    "    power = 1-integrate.quad(lambda x:peakdistribution.peakdens3D(x,1),-20,float(FweThres)-muMax)[0]\n",
    "    if power>Power:\n",
    "        muSingle.append(muMax)\n",
    "        break\n",
    "print(\"The power is sufficient for one region if mu equals: \"+str(muSingle[0]))"
   ]
  },
  {
   "cell_type": "markdown",
   "metadata": {},
   "source": [
    "## 5. From the required voxel statistic to Cohen's D for a given sample size"
   ]
  },
  {
   "cell_type": "code",
   "execution_count": 47,
   "metadata": {
    "collapsed": false
   },
   "outputs": [],
   "source": [
    "# Read in data\n",
    "Data = pd.read_csv(\"../SampleSize/neurosynth_study_data.txt\",sep=\" \",header=None,names=['year','n'])\n",
    "Data['source']='Tal'\n",
    "Data=Data[Data.year!=1997] #remove year with 1 entry\n",
    "David = pd.read_csv(\"../SampleSize/david_sampsizedata.txt\",sep=\" \",header=None,names=['year','n'])\n",
    "David['source']='David'\n",
    "Data=Data.append(David)"
   ]
  },
  {
   "cell_type": "code",
   "execution_count": 48,
   "metadata": {
    "collapsed": false
   },
   "outputs": [],
   "source": [
    "# add detectable effect\n",
    "Data['deltaSingle']=muSingle[0]/np.sqrt(Data['n'])"
   ]
  },
  {
   "cell_type": "code",
   "execution_count": 49,
   "metadata": {
    "collapsed": true
   },
   "outputs": [],
   "source": [
    "# add jitter for figure\n",
    "stdev = 0.01*(max(Data.year)-min(Data.year))\n",
    "Data['year_jitter'] = Data.year+np.random.randn(len(Data))*stdev"
   ]
  },
  {
   "cell_type": "code",
   "execution_count": 50,
   "metadata": {
    "collapsed": false
   },
   "outputs": [],
   "source": [
    "# Compute medians per year (for smoother)\n",
    "Medians = pd.DataFrame({'year':\n",
    "                     np.arange(start=np.min(Data.year),stop=np.max(Data.year)+1),\n",
    "                      'TalMdSS':'nan',\n",
    "                     'DavidMdSS':'nan',\n",
    "                      'TalMdDSingle':'nan',\n",
    "                     'DavidMdDSingle':'nan',\n",
    "                        'MdSS':'nan',\n",
    "                        'DSingle':'nan'\n",
    "                       })"
   ]
  },
  {
   "cell_type": "code",
   "execution_count": 51,
   "metadata": {
    "collapsed": false
   },
   "outputs": [
    {
     "name": "stderr",
     "output_type": "stream",
     "text": [
      "/Users/poldrack/anaconda/envs/py3k/lib/python3.5/site-packages/numpy/core/_methods.py:59: RuntimeWarning: Mean of empty slice.\n",
      "  warnings.warn(\"Mean of empty slice.\", RuntimeWarning)\n",
      "/Users/poldrack/anaconda/envs/py3k/lib/python3.5/site-packages/ipykernel/__main__.py:4: SettingWithCopyWarning: \n",
      "A value is trying to be set on a copy of a slice from a DataFrame\n",
      "\n",
      "See the caveats in the documentation: http://pandas.pydata.org/pandas-docs/stable/indexing.html#indexing-view-versus-copy\n",
      "/Users/poldrack/anaconda/envs/py3k/lib/python3.5/site-packages/ipykernel/__main__.py:5: SettingWithCopyWarning: \n",
      "A value is trying to be set on a copy of a slice from a DataFrame\n",
      "\n",
      "See the caveats in the documentation: http://pandas.pydata.org/pandas-docs/stable/indexing.html#indexing-view-versus-copy\n",
      "/Users/poldrack/anaconda/envs/py3k/lib/python3.5/site-packages/ipykernel/__main__.py:8: SettingWithCopyWarning: \n",
      "A value is trying to be set on a copy of a slice from a DataFrame\n",
      "\n",
      "See the caveats in the documentation: http://pandas.pydata.org/pandas-docs/stable/indexing.html#indexing-view-versus-copy\n",
      "/Users/poldrack/anaconda/envs/py3k/lib/python3.5/site-packages/ipykernel/__main__.py:9: SettingWithCopyWarning: \n",
      "A value is trying to be set on a copy of a slice from a DataFrame\n",
      "\n",
      "See the caveats in the documentation: http://pandas.pydata.org/pandas-docs/stable/indexing.html#indexing-view-versus-copy\n",
      "/Users/poldrack/anaconda/envs/py3k/lib/python3.5/site-packages/ipykernel/__main__.py:12: SettingWithCopyWarning: \n",
      "A value is trying to be set on a copy of a slice from a DataFrame\n",
      "\n",
      "See the caveats in the documentation: http://pandas.pydata.org/pandas-docs/stable/indexing.html#indexing-view-versus-copy\n",
      "/Users/poldrack/anaconda/envs/py3k/lib/python3.5/site-packages/ipykernel/__main__.py:13: SettingWithCopyWarning: \n",
      "A value is trying to be set on a copy of a slice from a DataFrame\n",
      "\n",
      "See the caveats in the documentation: http://pandas.pydata.org/pandas-docs/stable/indexing.html#indexing-view-versus-copy\n"
     ]
    }
   ],
   "source": [
    "for yearInd in (range(len(Medians))):\n",
    "    # Compute medians for Tal's data\n",
    "    yearBoolTal = np.array([a and b for a,b in zip(Data.source==\"Tal\",Data.year==Medians.year[yearInd])])\n",
    "    Medians.TalMdSS[yearInd] = np.median(Data.n[yearBoolTal])\n",
    "    Medians.TalMdDSingle[yearInd] = np.median(Data.deltaSingle[yearBoolTal])\n",
    "    # Compute medians for David's data\n",
    "    yearBoolDavid = np.array([a and b for a,b in zip(Data.source==\"David\",Data.year==Medians.year[yearInd])])\n",
    "    Medians.DavidMdSS[yearInd] = np.median(Data.n[yearBoolDavid])\n",
    "    Medians.DavidMdDSingle[yearInd] = np.median(Data.deltaSingle[yearBoolDavid])\n",
    "    # Compute medians for all data\n",
    "    yearBool = np.array(Data.year==Medians.year[yearInd])\n",
    "    Medians.MdSS[yearInd] = np.median(Data.n[yearBool])\n",
    "    Medians.DSingle[yearInd] = np.median(Data.deltaSingle[yearBool])   \n"
   ]
  },
  {
   "cell_type": "code",
   "execution_count": 52,
   "metadata": {
    "collapsed": false
   },
   "outputs": [
    {
     "data": {
      "text/html": [
       "<div>\n",
       "<table border=\"1\" class=\"dataframe\">\n",
       "  <thead>\n",
       "    <tr style=\"text-align: right;\">\n",
       "      <th></th>\n",
       "      <th>DSingle</th>\n",
       "      <th>DavidMdDSingle</th>\n",
       "      <th>DavidMdSS</th>\n",
       "      <th>MdSS</th>\n",
       "      <th>TalMdDSingle</th>\n",
       "      <th>TalMdSS</th>\n",
       "      <th>year</th>\n",
       "    </tr>\n",
       "  </thead>\n",
       "  <tbody>\n",
       "    <tr>\n",
       "      <th>0</th>\n",
       "      <td>1.26491</td>\n",
       "      <td>1.26491</td>\n",
       "      <td>10</td>\n",
       "      <td>10</td>\n",
       "      <td>NaN</td>\n",
       "      <td>NaN</td>\n",
       "      <td>1996.0</td>\n",
       "    </tr>\n",
       "    <tr>\n",
       "      <th>1</th>\n",
       "      <td>1.20605</td>\n",
       "      <td>1.20605</td>\n",
       "      <td>11</td>\n",
       "      <td>11</td>\n",
       "      <td>NaN</td>\n",
       "      <td>NaN</td>\n",
       "      <td>1997.0</td>\n",
       "    </tr>\n",
       "    <tr>\n",
       "      <th>2</th>\n",
       "      <td>1.13205</td>\n",
       "      <td>1.13205</td>\n",
       "      <td>12.5</td>\n",
       "      <td>12.5</td>\n",
       "      <td>NaN</td>\n",
       "      <td>NaN</td>\n",
       "      <td>1998.0</td>\n",
       "    </tr>\n",
       "    <tr>\n",
       "      <th>3</th>\n",
       "      <td>1.41421</td>\n",
       "      <td>1.41421</td>\n",
       "      <td>8</td>\n",
       "      <td>8</td>\n",
       "      <td>NaN</td>\n",
       "      <td>NaN</td>\n",
       "      <td>1999.0</td>\n",
       "    </tr>\n",
       "    <tr>\n",
       "      <th>4</th>\n",
       "      <td>1.23548</td>\n",
       "      <td>1.23548</td>\n",
       "      <td>10.5</td>\n",
       "      <td>10.5</td>\n",
       "      <td>NaN</td>\n",
       "      <td>NaN</td>\n",
       "      <td>2000.0</td>\n",
       "    </tr>\n",
       "  </tbody>\n",
       "</table>\n",
       "</div>"
      ],
      "text/plain": [
       "   DSingle DavidMdDSingle DavidMdSS  MdSS TalMdDSingle TalMdSS    year\n",
       "0  1.26491        1.26491        10    10          NaN     NaN  1996.0\n",
       "1  1.20605        1.20605        11    11          NaN     NaN  1997.0\n",
       "2  1.13205        1.13205      12.5  12.5          NaN     NaN  1998.0\n",
       "3  1.41421        1.41421         8     8          NaN     NaN  1999.0\n",
       "4  1.23548        1.23548      10.5  10.5          NaN     NaN  2000.0"
      ]
     },
     "execution_count": 52,
     "metadata": {},
     "output_type": "execute_result"
    }
   ],
   "source": [
    "Medians[0:5]"
   ]
  },
  {
   "cell_type": "code",
   "execution_count": 53,
   "metadata": {
    "collapsed": false
   },
   "outputs": [],
   "source": [
    "# add logscale\n",
    "\n",
    "Medians['MdSSLog'] = [np.log(x) for x in Medians.MdSS]\n",
    "Medians['TalMdSSLog'] = [np.log(x) for x in Medians.TalMdSS]\n",
    "Medians['DavidMdSSLog'] = [np.log(x) for x in Medians.DavidMdSS]\n",
    "\n",
    "Data['nLog']= [np.log(x) for x in Data.n]"
   ]
  },
  {
   "cell_type": "markdown",
   "metadata": {},
   "source": [
    "## The figure per List (Tal or David)"
   ]
  },
  {
   "cell_type": "code",
   "execution_count": 54,
   "metadata": {
    "collapsed": false
   },
   "outputs": [
    {
     "data": {
      "image/png": "[encoded data removed]",
      "text/plain": [
       "<matplotlib.figure.Figure at 0x1113f5d68>"
      ]
     },
     "metadata": {},
     "output_type": "display_data"
    }
   ],
   "source": [
    "twocol = cb.qualitative.Paired_12.mpl_colors\n",
    "\n",
    "fig,axs = plt.subplots(1,2,figsize=(12,5))\n",
    "fig.subplots_adjust(hspace=.5,wspace=.3)\n",
    "axs=axs.ravel()\n",
    "axs[0].plot(Data.year_jitter[Data.source==\"Tal\"],Data['nLog'][Data.source==\"Tal\"],\"r.\",color=twocol[0],alpha=0.5,label=\"\")\n",
    "axs[0].plot(Data.year_jitter[Data.source==\"David\"],Data['nLog'][Data.source==\"David\"],\"r.\",color=twocol[2],alpha=0.5,label=\"\")\n",
    "axs[0].plot(Medians.year,Medians.TalMdSSLog,color=twocol[1],lw=3,label=\"Neurosynth\")\n",
    "axs[0].plot(Medians.year,Medians.DavidMdSSLog,color=twocol[3],lw=3,label=\"David et al.\")\n",
    "axs[0].set_xlim([1993,2016])\n",
    "axs[0].set_ylim([0,8])\n",
    "axs[0].set_xlabel(\"Year\")\n",
    "axs[0].set_ylabel(\"Median Sample Size\")\n",
    "axs[0].legend(loc=\"upper left\",frameon=False)\n",
    "#labels=[1,5,10,20,50,150,500,1000,3000]\n",
    "labels=[1,4,16,64,256,1024,3000]\n",
    "axs[0].set_yticks(np.log(labels))\n",
    "axs[0].set_yticklabels(labels)\n",
    "\n",
    "\n",
    "axs[1].plot(Data.year_jitter[Data.source==\"Tal\"],Data.deltaSingle[Data.source==\"Tal\"],\"r.\",color=twocol[0],alpha=0.5,label=\"\")\n",
    "axs[1].plot(Data.year_jitter[Data.source==\"David\"],Data.deltaSingle[Data.source==\"David\"],\"r.\",color=twocol[2],alpha=0.5,label=\"\")\n",
    "axs[1].plot(Medians.year,Medians.TalMdDSingle,color=twocol[1],lw=3,label=\"Neurosynth\")\n",
    "axs[1].plot(Medians.year,Medians.DavidMdDSingle,color=twocol[3],lw=3,label=\"David et al.\")\n",
    "axs[1].set_xlim([1993,2016])\n",
    "axs[1].set_ylim([0,3])\n",
    "axs[1].set_xlabel(\"Year\")\n",
    "axs[1].set_ylabel(\"Effect Size with 80% power\")\n",
    "axs[1].legend(loc=\"upper right\",frameon=False)\n",
    "plt.savefig('Figure1.svg',dpi=600)\n",
    "plt.show()\n",
    "\n"
   ]
  },
  {
   "cell_type": "markdown",
   "metadata": {},
   "source": [
    "Print median sample size and power for Neurosynth data"
   ]
  },
  {
   "cell_type": "code",
   "execution_count": 55,
   "metadata": {
    "collapsed": false
   },
   "outputs": [
    {
     "data": {
      "text/html": [
       "<div>\n",
       "<table border=\"1\" class=\"dataframe\">\n",
       "  <thead>\n",
       "    <tr style=\"text-align: right;\">\n",
       "      <th></th>\n",
       "      <th>year</th>\n",
       "      <th>TalMdSS</th>\n",
       "      <th>TalMdDSingle</th>\n",
       "    </tr>\n",
       "  </thead>\n",
       "  <tbody>\n",
       "    <tr>\n",
       "      <th>0</th>\n",
       "      <td>1996.0</td>\n",
       "      <td>NaN</td>\n",
       "      <td>NaN</td>\n",
       "    </tr>\n",
       "    <tr>\n",
       "      <th>1</th>\n",
       "      <td>1997.0</td>\n",
       "      <td>NaN</td>\n",
       "      <td>NaN</td>\n",
       "    </tr>\n",
       "    <tr>\n",
       "      <th>2</th>\n",
       "      <td>1998.0</td>\n",
       "      <td>NaN</td>\n",
       "      <td>NaN</td>\n",
       "    </tr>\n",
       "    <tr>\n",
       "      <th>3</th>\n",
       "      <td>1999.0</td>\n",
       "      <td>NaN</td>\n",
       "      <td>NaN</td>\n",
       "    </tr>\n",
       "    <tr>\n",
       "      <th>4</th>\n",
       "      <td>2000.0</td>\n",
       "      <td>NaN</td>\n",
       "      <td>NaN</td>\n",
       "    </tr>\n",
       "    <tr>\n",
       "      <th>5</th>\n",
       "      <td>2001.0</td>\n",
       "      <td>NaN</td>\n",
       "      <td>NaN</td>\n",
       "    </tr>\n",
       "    <tr>\n",
       "      <th>6</th>\n",
       "      <td>2002.0</td>\n",
       "      <td>NaN</td>\n",
       "      <td>NaN</td>\n",
       "    </tr>\n",
       "    <tr>\n",
       "      <th>7</th>\n",
       "      <td>2003.0</td>\n",
       "      <td>NaN</td>\n",
       "      <td>NaN</td>\n",
       "    </tr>\n",
       "    <tr>\n",
       "      <th>8</th>\n",
       "      <td>2004.0</td>\n",
       "      <td>NaN</td>\n",
       "      <td>NaN</td>\n",
       "    </tr>\n",
       "    <tr>\n",
       "      <th>9</th>\n",
       "      <td>2005.0</td>\n",
       "      <td>NaN</td>\n",
       "      <td>NaN</td>\n",
       "    </tr>\n",
       "    <tr>\n",
       "      <th>10</th>\n",
       "      <td>2006.0</td>\n",
       "      <td>NaN</td>\n",
       "      <td>NaN</td>\n",
       "    </tr>\n",
       "    <tr>\n",
       "      <th>11</th>\n",
       "      <td>2007.0</td>\n",
       "      <td>NaN</td>\n",
       "      <td>NaN</td>\n",
       "    </tr>\n",
       "    <tr>\n",
       "      <th>12</th>\n",
       "      <td>2008.0</td>\n",
       "      <td>NaN</td>\n",
       "      <td>NaN</td>\n",
       "    </tr>\n",
       "    <tr>\n",
       "      <th>13</th>\n",
       "      <td>2009.0</td>\n",
       "      <td>NaN</td>\n",
       "      <td>NaN</td>\n",
       "    </tr>\n",
       "    <tr>\n",
       "      <th>14</th>\n",
       "      <td>2010.0</td>\n",
       "      <td>NaN</td>\n",
       "      <td>NaN</td>\n",
       "    </tr>\n",
       "    <tr>\n",
       "      <th>15</th>\n",
       "      <td>2011.0</td>\n",
       "      <td>22</td>\n",
       "      <td>0.852803</td>\n",
       "    </tr>\n",
       "    <tr>\n",
       "      <th>16</th>\n",
       "      <td>2012.0</td>\n",
       "      <td>20</td>\n",
       "      <td>0.894427</td>\n",
       "    </tr>\n",
       "    <tr>\n",
       "      <th>17</th>\n",
       "      <td>2013.0</td>\n",
       "      <td>21</td>\n",
       "      <td>0.872872</td>\n",
       "    </tr>\n",
       "    <tr>\n",
       "      <th>18</th>\n",
       "      <td>2014.0</td>\n",
       "      <td>22</td>\n",
       "      <td>0.852803</td>\n",
       "    </tr>\n",
       "    <tr>\n",
       "      <th>19</th>\n",
       "      <td>2015.0</td>\n",
       "      <td>28.5</td>\n",
       "      <td>0.749355</td>\n",
       "    </tr>\n",
       "  </tbody>\n",
       "</table>\n",
       "</div>"
      ],
      "text/plain": [
       "      year TalMdSS TalMdDSingle\n",
       "0   1996.0     NaN          NaN\n",
       "1   1997.0     NaN          NaN\n",
       "2   1998.0     NaN          NaN\n",
       "3   1999.0     NaN          NaN\n",
       "4   2000.0     NaN          NaN\n",
       "5   2001.0     NaN          NaN\n",
       "6   2002.0     NaN          NaN\n",
       "7   2003.0     NaN          NaN\n",
       "8   2004.0     NaN          NaN\n",
       "9   2005.0     NaN          NaN\n",
       "10  2006.0     NaN          NaN\n",
       "11  2007.0     NaN          NaN\n",
       "12  2008.0     NaN          NaN\n",
       "13  2009.0     NaN          NaN\n",
       "14  2010.0     NaN          NaN\n",
       "15  2011.0      22     0.852803\n",
       "16  2012.0      20     0.894427\n",
       "17  2013.0      21     0.872872\n",
       "18  2014.0      22     0.852803\n",
       "19  2015.0    28.5     0.749355"
      ]
     },
     "execution_count": 55,
     "metadata": {},
     "output_type": "execute_result"
    }
   ],
   "source": [
    "Medians.loc[:, lambda df: ['year', 'TalMdSS', 'TalMdDSingle']]"
   ]
  },
  {
   "cell_type": "markdown",
   "metadata": {},
   "source": [
    "Compute median of sample sizes over last 5 years, for use in correlation simulation notebook."
   ]
  },
  {
   "cell_type": "code",
   "execution_count": 56,
   "metadata": {
    "collapsed": false
   },
   "outputs": [
    {
     "name": "stdout",
     "output_type": "stream",
     "text": [
      "Median sample size (2011-2015): 22.0\n"
     ]
    }
   ],
   "source": [
    "yearBoolTal = np.array([a and b for a,b in zip(Data.source==\"Tal\",Data.year>2010)])\n",
    "print('Median sample size (2011-2015):',np.median(Data.n[yearBoolTal]))"
   ]
  },
  {
   "cell_type": "markdown",
   "metadata": {},
   "source": [
    "Compute number of single-group studies with sample sizes over 100"
   ]
  },
  {
   "cell_type": "code",
   "execution_count": 69,
   "metadata": {
    "collapsed": false
   },
   "outputs": [
    {
     "name": "stdout",
     "output_type": "stream",
     "text": [
      "0\n",
      "8\n",
      "8\n",
      "8\n",
      "17\n"
     ]
    }
   ],
   "source": [
    "for year in range(2011,2016):\n",
    "    bigstudyBoolTal = np.array([a and b and c for a,b,c in zip(Data.source==\"Tal\",Data.n>100,Data.year==year)])\n",
    "\n",
    "    print(np.sum(Data[bigstudyBoolTal].n>99))\n"
   ]
  },
  {
   "cell_type": "code",
   "execution_count": null,
   "metadata": {
    "collapsed": true
   },
   "outputs": [],
   "source": []
  }
 ],
 "metadata": {
  "kernelspec": {
   "display_name": "Python 3",
   "language": "python",
   "name": "python3"
  },
  "language_info": {
   "codemirror_mode": {
    "name": "ipython",
    "version": 3
   },
   "file_extension": ".py",
   "mimetype": "text/x-python",
   "name": "python",
   "nbconvert_exporter": "python",
   "pygments_lexer": "ipython3",
   "version": "3.5.1"
  }
 },
 "nbformat": 4,
 "nbformat_minor": 0
}
