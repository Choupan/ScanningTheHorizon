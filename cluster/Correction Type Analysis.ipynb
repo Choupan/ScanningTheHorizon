{
 "cells": [
  {
   "cell_type": "code",
   "execution_count": 13,
   "metadata": {},
   "outputs": [],
   "source": [
    "import pandas,numpy\n",
    "infile='Multiple comparisons anlaysis of Pubmed_v2.xlsx'\n",
    "\n",
    "xl = pandas.ExcelFile(infile)\n",
    "df = xl.parse(\"Sheet1\")\n",
    "corrtype=df['cluster/voxel/other'].dropna()\n",
    "\n"
   ]
  },
  {
   "cell_type": "code",
   "execution_count": 14,
   "metadata": {},
   "outputs": [
    {
     "name": "stdout",
     "output_type": "stream",
     "text": [
      "0.786885245902\n"
     ]
    }
   ],
   "source": [
    "clusterbased=[i.find('cluster')>-1 for i in corrtype]\n",
    "print(numpy.mean(clusterbased))"
   ]
  },
  {
   "cell_type": "code",
   "execution_count": null,
   "metadata": {
    "collapsed": true
   },
   "outputs": [],
   "source": []
  }
 ],
 "metadata": {
  "kernelspec": {
   "display_name": "Python 3",
   "language": "python",
   "name": "python3"
  },
  "language_info": {
   "codemirror_mode": {
    "name": "ipython",
    "version": 3
   },
   "file_extension": ".py",
   "mimetype": "text/x-python",
   "name": "python",
   "nbconvert_exporter": "python",
   "pygments_lexer": "ipython3",
   "version": "3.6.2"
  }
 },
 "nbformat": 4,
 "nbformat_minor": 2
}
